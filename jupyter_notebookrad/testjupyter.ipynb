{
 "cells": [
  {
   "cell_type": "code",
   "execution_count": 1,
   "id": "951039ba-e5bd-492a-b1ea-4a90393c929e",
   "metadata": {},
   "outputs": [
    {
     "data": {
      "text/plain": [
       "7"
      ]
     },
     "execution_count": 1,
     "metadata": {},
     "output_type": "execute_result"
    }
   ],
   "source": [
    "a=(2+5)\n",
    "a"
   ]
  },
  {
   "cell_type": "code",
   "execution_count": 3,
   "id": "3e0dcc7e-e8d3-42e8-bb60-36b7d21b6242",
   "metadata": {},
   "outputs": [
    {
     "data": {
      "text/plain": [
       "7"
      ]
     },
     "execution_count": 3,
     "metadata": {},
     "output_type": "execute_result"
    }
   ],
   "source": [
    "a"
   ]
  },
  {
   "cell_type": "markdown",
   "id": "f6e7cb73-eb5e-4184-be49-1094715533e4",
   "metadata": {},
   "source": [
    "***raeed***"
   ]
  },
  {
   "cell_type": "code",
   "execution_count": 12,
   "id": "691b5a0c-a691-413e-b956-689d9fc9f355",
   "metadata": {},
   "outputs": [
    {
     "ename": "TypeError",
     "evalue": "int.bit_count() takes no arguments (1 given)",
     "output_type": "error",
     "traceback": [
      "\u001b[1;31m---------------------------------------------------------------------------\u001b[0m",
      "\u001b[1;31mTypeError\u001b[0m                                 Traceback (most recent call last)",
      "Cell \u001b[1;32mIn[12], line 1\u001b[0m\n\u001b[1;32m----> 1\u001b[0m a\u001b[38;5;241m.\u001b[39mbit_count(\u001b[38;5;241m1\u001b[39m)\n",
      "\u001b[1;31mTypeError\u001b[0m: int.bit_count() takes no arguments (1 given)"
     ]
    }
   ],
   "source": [
    "a.bit_count(1)"
   ]
  },
  {
   "cell_type": "markdown",
   "id": "7e364729-801e-4736-9894-14efffbcc2f8",
   "metadata": {},
   "source": [
    "****indexing and data structures****"
   ]
  },
  {
   "cell_type": "code",
   "execution_count": null,
   "id": "58f84fb0-5797-4865-8bad-088eec509872",
   "metadata": {},
   "outputs": [],
   "source": []
  }
 ],
 "metadata": {
  "kernelspec": {
   "display_name": "Python 3 (ipykernel)",
   "language": "python",
   "name": "python3"
  },
  "language_info": {
   "codemirror_mode": {
    "name": "ipython",
    "version": 3
   },
   "file_extension": ".py",
   "mimetype": "text/x-python",
   "name": "python",
   "nbconvert_exporter": "python",
   "pygments_lexer": "ipython3",
   "version": "3.12.7"
  }
 },
 "nbformat": 4,
 "nbformat_minor": 5
}
